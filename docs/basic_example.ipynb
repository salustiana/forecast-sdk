{
 "cells": [
  {
   "cell_type": "markdown",
   "metadata": {
    "id": "fJJijXxPkjNM"
   },
   "source": [
    "# Forecasting con Amazon Forecast\n",
    "\n",
    "## Introducción\n",
    "En este notebook se explica cómo utilizar la librería **sibila**, que permite interactuar con el servicio de Amazon Forecast utilizando Python.\n",
    "\n",
    "Para continuar, será necesario instalar la lib **sibila** disponible en nuestro pypi.\n"
   ]
  },
  {
   "cell_type": "code",
   "execution_count": 1,
   "metadata": {
    "id": "1OHWh2hOn6yF"
   },
   "outputs": [
    {
     "name": "stdout",
     "output_type": "stream",
     "text": [
      "Looking in indexes: http://pypi.ml.com/simple/\n",
      "Requirement already satisfied: sibila in /Users/luan2/lab/fury_python-bi-automl/.venvSIB/lib/python3.9/site-packages (0.0.1.dev13)\n",
      "Requirement already satisfied: melitk.logging in /Users/luan2/lab/fury_python-bi-automl/.venvSIB/lib/python3.9/site-packages (from sibila) (1.1.1)\n",
      "Requirement already satisfied: boto3>=1.16.42 in /Users/luan2/lab/fury_python-bi-automl/.venvSIB/lib/python3.9/site-packages (from sibila) (1.16.42)\n",
      "Requirement already satisfied: melitk.metrics in /Users/luan2/lab/fury_python-bi-automl/.venvSIB/lib/python3.9/site-packages (from sibila) (2.2.1)\n",
      "Requirement already satisfied: s3transfer<0.4.0,>=0.3.0 in /Users/luan2/lab/fury_python-bi-automl/.venvSIB/lib/python3.9/site-packages (from boto3>=1.16.42->sibila) (0.3.3)\n",
      "Requirement already satisfied: jmespath<1.0.0,>=0.7.1 in /Users/luan2/lab/fury_python-bi-automl/.venvSIB/lib/python3.9/site-packages (from boto3>=1.16.42->sibila) (0.10.0)\n",
      "Requirement already satisfied: botocore<1.20.0,>=1.19.42 in /Users/luan2/lab/fury_python-bi-automl/.venvSIB/lib/python3.9/site-packages (from boto3>=1.16.42->sibila) (1.19.42)\n",
      "Requirement already satisfied: python-dateutil<3.0.0,>=2.1 in /Users/luan2/lab/fury_python-bi-automl/.venvSIB/lib/python3.9/site-packages (from botocore<1.20.0,>=1.19.42->boto3>=1.16.42->sibila) (2.8.1)\n",
      "Requirement already satisfied: urllib3<1.27,>=1.25.4 in /Users/luan2/lab/fury_python-bi-automl/.venvSIB/lib/python3.9/site-packages (from botocore<1.20.0,>=1.19.42->boto3>=1.16.42->sibila) (1.25.11)\n",
      "Requirement already satisfied: jmespath<1.0.0,>=0.7.1 in /Users/luan2/lab/fury_python-bi-automl/.venvSIB/lib/python3.9/site-packages (from boto3>=1.16.42->sibila) (0.10.0)\n",
      "Requirement already satisfied: melitk.metrics in /Users/luan2/lab/fury_python-bi-automl/.venvSIB/lib/python3.9/site-packages (from sibila) (2.2.1)\n",
      "Requirement already satisfied: datadog in /Users/luan2/lab/fury_python-bi-automl/.venvSIB/lib/python3.9/site-packages (from melitk.metrics->sibila) (0.39.0)\n",
      "Requirement already satisfied: melitk.melipass~=0.2 in /Users/luan2/lab/fury_python-bi-automl/.venvSIB/lib/python3.9/site-packages (from melitk.metrics->sibila) (0.2.2)\n",
      "Requirement already satisfied: requests>=2.6.0 in /Users/luan2/lab/fury_python-bi-automl/.venvSIB/lib/python3.9/site-packages (from datadog->melitk.metrics->sibila) (2.23.0)\n",
      "Requirement already satisfied: decorator>=3.3.2 in /Users/luan2/lab/fury_python-bi-automl/.venvSIB/lib/python3.9/site-packages (from datadog->melitk.metrics->sibila) (4.4.2)\n",
      "Requirement already satisfied: pycryptodomex>=3.7 in /Users/luan2/lab/fury_python-bi-automl/.venvSIB/lib/python3.9/site-packages (from melitk.melipass~=0.2->melitk.metrics->sibila) (3.9.9)\n",
      "Requirement already satisfied: melitk.metrics in /Users/luan2/lab/fury_python-bi-automl/.venvSIB/lib/python3.9/site-packages (from sibila) (2.2.1)\n",
      "Requirement already satisfied: six>=1.5 in /Users/luan2/lab/fury_python-bi-automl/.venvSIB/lib/python3.9/site-packages (from python-dateutil<3.0.0,>=2.1->botocore<1.20.0,>=1.19.42->boto3>=1.16.42->sibila) (1.15.0)\n",
      "Requirement already satisfied: idna<3,>=2.5 in /Users/luan2/lab/fury_python-bi-automl/.venvSIB/lib/python3.9/site-packages (from requests>=2.6.0->datadog->melitk.metrics->sibila) (2.10)\n",
      "Requirement already satisfied: certifi>=2017.4.17 in /Users/luan2/lab/fury_python-bi-automl/.venvSIB/lib/python3.9/site-packages (from requests>=2.6.0->datadog->melitk.metrics->sibila) (2020.12.5)\n",
      "Requirement already satisfied: urllib3<1.27,>=1.25.4 in /Users/luan2/lab/fury_python-bi-automl/.venvSIB/lib/python3.9/site-packages (from botocore<1.20.0,>=1.19.42->boto3>=1.16.42->sibila) (1.25.11)\n",
      "Requirement already satisfied: chardet<4,>=3.0.2 in /Users/luan2/lab/fury_python-bi-automl/.venvSIB/lib/python3.9/site-packages (from requests>=2.6.0->datadog->melitk.metrics->sibila) (3.0.4)\n",
      "Requirement already satisfied: botocore<1.20.0,>=1.19.42 in /Users/luan2/lab/fury_python-bi-automl/.venvSIB/lib/python3.9/site-packages (from boto3>=1.16.42->sibila) (1.19.42)\n",
      "\u001b[33mWARNING: You are using pip version 20.3.1; however, version 20.3.3 is available.\n",
      "You should consider upgrading via the '/Users/luan2/lab/fury_python-bi-automl/.venvSIB/bin/python3 -m pip install --upgrade pip' command.\u001b[0m\n"
     ]
    }
   ],
   "source": [
    "!python3 -m pip install --index-url http://pypi.ml.com/simple/ \\\n",
    "    --trusted-host pypi.ml.com \\\n",
    "    sibila"
   ]
  },
  {
   "cell_type": "markdown",
   "metadata": {
    "id": "J6v6-ppLht5J"
   },
   "source": [
    "\n",
    "## Setup del proyecto\n",
    "\n",
    "Una vez instalada, instanciamos un **Project**, que es la entidad principal a partir de la cual vamos a poder subir **Datasets** y crear **Forecasts**."
   ]
  },
  {
   "cell_type": "code",
   "execution_count": 1,
   "metadata": {
    "id": "VE5R2MdbWjwR"
   },
   "outputs": [],
   "source": [
    "from sibila import Project, Dataset, Predictor"
   ]
  },
  {
   "cell_type": "markdown",
   "metadata": {
    "id": "ym7wfhQ5XF-T"
   },
   "source": [
    "\n",
    "Las credenciales de AWS que se necesitan para poder interactuar con el servicio se especifican de la siguiente manera:\n",
    "\n",
    "_Nota: Si estamos trabajando en un entorno con Bastion, no es necesario pasarle al **Project** las credenciales de AWS, ya que éste las levanta automáticamente del entorno._"
   ]
  },
  {
   "cell_type": "code",
   "execution_count": 2,
   "metadata": {
    "id": "gRQSlQIaYKwh"
   },
   "outputs": [],
   "source": [
    "mi_proyecto = Project(\n",
    "    name=\"point_example\",\n",
    "    team=\"bi-ml-cross\",\n",
    "    username=\"ldap_user\",\n",
    "    password=\"ldap_pass\",\n",
    "    #aws_access_key_id='accessKey',\n",
    "    #aws_secret_access_key='secretKey',\n",
    "    #aws_session_token='sessionToken',\n",
    "    #region_name=\"us-east-1\",\n",
    ")"
   ]
  },
  {
   "cell_type": "markdown",
   "metadata": {
    "id": "_UuQPXuhZGrD"
   },
   "source": [
    "## Creación del dataset\n",
    "\n",
    "Para poder hacer una predicción, primero necesitamos entrenar un predictor a partir de un dataset.\n",
    "Como dataset principal, amazon requiere un dataset del tipo **TARGET TIME SERIES**. También podemos crear datasets del tipo **RELATED TIME SERIES** y un **ITEM METADATA** para agregar más información.\n",
    "\n",
    "Para cada tipo de dataset, amazon también nos requiere especificar un ***schema*** mediante el cual le comunicamos al servicio qué información le proporcionamos en cada columna del dataset."
   ]
  },
  {
   "cell_type": "code",
   "execution_count": 8,
   "metadata": {
    "id": "CQG3Lu2mZbu9"
   },
   "outputs": [],
   "source": [
    "# Specify the schema of your dataset here. Make sure the order of columns matches the raw data files.\n",
    "schema ={\n",
    "   \"Attributes\":[\n",
    "      {\n",
    "         \"AttributeName\":\"timestamp\",\n",
    "         \"AttributeType\":\"timestamp\"\n",
    "      },\n",
    "      {\n",
    "         \"AttributeName\":\"target_value\",\n",
    "         \"AttributeType\":\"float\"\n",
    "      },\n",
    "      {\n",
    "         \"AttributeName\":\"item_id\",\n",
    "         \"AttributeType\":\"string\"\n",
    "      }\n",
    "   ]\n",
    "}"
   ]
  },
  {
   "cell_type": "code",
   "execution_count": 9,
   "metadata": {
    "id": "CQG3Lu2mZbu9"
   },
   "outputs": [
    {
     "name": "stderr",
     "output_type": "stream",
     "text": [
      "INFO:sibila:Uploading dataset to s3\n"
     ]
    }
   ],
   "source": [
    "# Creacion del dataset.\n",
    "dataset_entrenamiento = mi_proyecto.upload_dataset(\n",
    "    local_path='./data/point.csv',\n",
    "    ds_type=Dataset.TARGET_TIME_SERIES,\n",
    "    schema=schema,\n",
    "    frequency='D',\n",
    "    timestamp_format='yyyy-MM-dd',\n",
    ")"
   ]
  },
  {
   "cell_type": "markdown",
   "metadata": {
    "id": "9B2bHUf6gBqI"
   },
   "source": [
    "## Entrenamiento de un predictor\n",
    "\n",
    "Ahora que nuestro proyecto contiene al menos el **TARGET TIME SERIES** dataset, podemos crear un predictor para nuestro proyecto.\n",
    "\n",
    "El predictor se entrenará con los datasets que contenga el proyecto al momento de la creación."
   ]
  },
  {
   "cell_type": "code",
   "execution_count": null,
   "metadata": {},
   "outputs": [],
   "source": [
    "mi_predictor = mi_proyecto.train_new_predictor(\n",
    "    name='predictor_point',\n",
    "    algorithm=Predictor.AUTO,\n",
    "    frequency='D',\n",
    "    horizon=30,\n",
    ")"
   ]
  },
  {
   "cell_type": "markdown",
   "metadata": {
    "id": "9E_GWwArtaQI"
   },
   "source": [
    "\n",
    "Los algoritmos de entrenamiento que podemos utilizar son: 'ARIMA', 'Deep_AR_Plus', 'ETS', 'NPTS' y 'Prophet'. También podemos especificar 'AUTO' y Amazon elegirá el mejor predictor luego de haber entrenado y comparado con los distintos algoritmos.\n",
    "\n",
    "La frecuencia representa la frecuencia de predicción a futuro que podrá hacer nuestro predictor, es decir: con una frecuencia diaria, nuestro predictor podrá decirnos qué demanda de item tendremos por cada día futuro. (la frecuencia especificada no puede ser mayor que la del **TARGET TIME SERIES** que hayamos subido a nuestro proyecto)\n",
    "\n",
    "El horizonte representa qué tan a futuro (en unidades de la frecuencia especificada) puede predecir nuestro predictor respecto al último dato que haya en nuestro dataset al momento de realizar la predicción. Por ejemplo: si nuestra frecuencia es 'D', nuestro horizonte es 30, y subimos un **TARGET TIME SERIES** que termina el 20 de Abril, podremos predecir la demanda hasta el 30 de Mayo."
   ]
  },
  {
   "cell_type": "markdown",
   "metadata": {},
   "source": [
    "### Métricas del entrenamiento\n",
    "\n",
    "Usando el método *metrics()* de un predictor, podemos exportar las métricas de entrenamiento del predictor.\n",
    "Como parámetro debemos brindar únicamente una ruta local al directorio donde quedarán guardados los dos archivos csv que provee el servicio:\n",
    "- **backtest_forecasts.csv**; donde encontramos las comparaciones entre las predicciones y los valores reales para los períodos de backtesting.\n",
    "- **backtest_metrics.csv**; donde encontramos métricas cualitativas como por ejemplo el RMSE.\n"
   ]
  },
  {
   "cell_type": "code",
   "execution_count": null,
   "metadata": {},
   "outputs": [],
   "source": [
    "mi_predictor.metrics('./data/metrics')"
   ]
  },
  {
   "cell_type": "markdown",
   "metadata": {
    "id": "rPi_xN2TuFp_"
   },
   "source": [
    "### Generación de predicciones\n",
    "\n",
    "Teniendo un predictor entrenado, podemos hacer una predicción y exportar los resultados de la siguiente forma:"
   ]
  },
  {
   "cell_type": "code",
   "execution_count": null,
   "metadata": {
    "id": "OnVV3PvkuRsV"
   },
   "outputs": [],
   "source": [
    "# Crear una prediccion y exportarla a resultados.csv\n",
    "mi_predictor.forecast('./resultados.csv')"
   ]
  },
  {
   "cell_type": "markdown",
   "metadata": {
    "id": "Sav3D4ukvM1c"
   },
   "source": [
    "Ésto genera un archivo local con los resultados del forecast."
   ]
  },
  {
   "cell_type": "markdown",
   "metadata": {},
   "source": [
    "## Recuperar un predictor\n",
    "\n",
    "Sibila nos permite ver qué predictores tenemos creados para nuestro proyecto de la siguiente manera:"
   ]
  },
  {
   "cell_type": "code",
   "execution_count": 17,
   "metadata": {},
   "outputs": [
    {
     "data": {
      "text/plain": [
       "['predictor_point']"
      ]
     },
     "execution_count": 17,
     "metadata": {},
     "output_type": "execute_result"
    }
   ],
   "source": [
    "mi_proyecto.predictors()"
   ]
  },
  {
   "cell_type": "markdown",
   "metadata": {},
   "source": [
    "Podemos recuperar cualquiera de los predictores que figuren en la lista para hacer predicciones o ver sus métricas:"
   ]
  },
  {
   "cell_type": "code",
   "execution_count": 8,
   "metadata": {},
   "outputs": [],
   "source": [
    "predictor_arima = mi_proyecto.get_predictor('predictor_point')\n",
    "predictor_arima.metrics('./metricas_ARIMA')"
   ]
  }
 ],
 "metadata": {
  "colab": {
   "name": "AutoML_Example.ipynb",
   "provenance": []
  },
  "kernelspec": {
   "display_name": "Python 3",
   "language": "python",
   "name": "python3"
  },
  "language_info": {
   "codemirror_mode": {
    "name": "ipython",
    "version": 3
   },
   "file_extension": ".py",
   "mimetype": "text/x-python",
   "name": "python",
   "nbconvert_exporter": "python",
   "pygments_lexer": "ipython3",
   "version": "3.9.1"
  }
 },
 "nbformat": 4,
 "nbformat_minor": 4
}
